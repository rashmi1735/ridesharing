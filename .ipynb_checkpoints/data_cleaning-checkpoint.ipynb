{
 "cells": [
  {
   "cell_type": "code",
   "execution_count": 1,
   "metadata": {},
   "outputs": [],
   "source": [
    "import numpy as np\n",
    "import pandas as pd\n",
    "import reverse_geocoder as rg \n",
    "import pprint \n",
    "from datetime import datetime,time, date\n",
    "import requests\n",
    "import json"
   ]
  },
  {
   "cell_type": "code",
   "execution_count": null,
   "metadata": {},
   "outputs": [],
   "source": [
    "df = pd.read_csv('yellow_tripdata_2016-06.csv')"
   ]
  },
  {
   "cell_type": "code",
   "execution_count": null,
   "metadata": {},
   "outputs": [],
   "source": [
    "df.shape"
   ]
  },
  {
   "cell_type": "code",
   "execution_count": null,
   "metadata": {},
   "outputs": [],
   "source": [
    "df.head()\n",
    "# df"
   ]
  },
  {
   "cell_type": "code",
   "execution_count": null,
   "metadata": {},
   "outputs": [],
   "source": [
    "df.tpep_pickup_datetime = df.tpep_pickup_datetime.apply(lambda x: datetime.strptime(x, \"%Y-%m-%d %H:%M:%S\"))\n",
    "df.tpep_dropoff_datetime = df.tpep_dropoff_datetime.apply(lambda x: datetime.strptime(x, \"%Y-%m-%d %H:%M:%S\"))\n",
    "df = df.sort_values(by = 'tpep_pickup_datetime')\n",
    "df.head()"
   ]
  },
  {
   "cell_type": "code",
   "execution_count": null,
   "metadata": {},
   "outputs": [],
   "source": [
    "df = df.drop(columns = ['VendorID', 'store_and_fwd_flag', 'fare_amount', 'tip_amount', 'tolls_amount', 'extra', 'mta_tax', 'improvement_surcharge' ])"
   ]
  },
  {
   "cell_type": "code",
   "execution_count": null,
   "metadata": {},
   "outputs": [],
   "source": [
    "df.head()"
   ]
  },
  {
   "cell_type": "code",
   "execution_count": null,
   "metadata": {},
   "outputs": [],
   "source": [
    "df['dropoff_lat_long_tuple'] = list(zip(df.dropoff_latitude, df.dropoff_longitude))\n",
    "df.head()"
   ]
  },
  {
   "cell_type": "code",
   "execution_count": null,
   "metadata": {},
   "outputs": [],
   "source": [
    "df = df[(df.RatecodeID == 2) & (df.trip_distance > 0.1) & (df.pickup_longitude != 0) & (df.pickup_latitude != 0) & (df.dropoff_longitude != 0) & (df.dropoff_latitude != 0)]    #source hub = JFK, RatecodeID = 2\n",
    "df.head()\n",
    "# df"
   ]
  },
  {
   "cell_type": "code",
   "execution_count": null,
   "metadata": {},
   "outputs": [],
   "source": [
    "df.shape"
   ]
  },
  {
   "cell_type": "code",
   "execution_count": null,
   "metadata": {},
   "outputs": [],
   "source": [
    "neg_fare_index = list(df[df.total_amount < 0].index)\n",
    "pos_fare_index = []\n",
    "\n",
    "for index in neg_fare_index:\n",
    "    pickup_time = df.loc[index,'tpep_pickup_datetime']\n",
    "    drop_time = df.loc[index, 'tpep_dropoff_datetime']\n",
    "    pickup_long = df.loc[index, 'pickup_longitude']\n",
    "    pickup_lat = df.loc[index, 'pickup_latitude']\n",
    "    dropoff_long = df.loc[index, 'dropoff_longitude']\n",
    "    dropoff_lat = df.loc[index, 'dropoff_latitude']\n",
    "    total_amount =  -df.loc[index, 'total_amount']\n",
    "    \n",
    "    \n",
    "    \n",
    "    req_index = list(df[(df.tpep_pickup_datetime == pickup_time) & (df.tpep_dropoff_datetime == drop_time) &\n",
    "             (df.pickup_longitude == pickup_long) & (df.dropoff_longitude == dropoff_long) &\n",
    "             (df.pickup_latitude == pickup_lat) & (df.dropoff_latitude == dropoff_lat) &\n",
    "             (df.total_amount == total_amount)].index)\n",
    "    pos_fare_index.extend(req_index)\n",
    "    \n",
    "remove_index = pos_fare_index + neg_fare_index\n",
    "\n",
    "\n",
    "\n"
   ]
  },
  {
   "cell_type": "code",
   "execution_count": null,
   "metadata": {},
   "outputs": [],
   "source": [
    "df = df[np.logical_not(df.index.isin(remove_index))]\n",
    "df.shape"
   ]
  },
  {
   "cell_type": "code",
   "execution_count": null,
   "metadata": {},
   "outputs": [],
   "source": [
    "geo = rg.RGeocoder(mode=2, verbose=True)\n",
    "results = geo.query(list(df.loc[:,'dropoff_lat_long_tuple']))\n",
    "df['dropoff_city'] = [odict['name'] for odict in results]\n",
    "df = df[df['dropoff_city'] == 'Manhattan']\n",
    "df.shape"
   ]
  },
  {
   "cell_type": "code",
   "execution_count": null,
   "metadata": {},
   "outputs": [],
   "source": [
    "df = df[df['passenger_count'] < 3]\n",
    "df.shape"
   ]
  },
  {
   "cell_type": "code",
   "execution_count": null,
   "metadata": {},
   "outputs": [],
   "source": [
    "df = df.reset_index(drop = True)"
   ]
  },
  {
   "cell_type": "code",
   "execution_count": null,
   "metadata": {},
   "outputs": [],
   "source": [
    "df.head()"
   ]
  },
  {
   "cell_type": "code",
   "execution_count": null,
   "metadata": {},
   "outputs": [],
   "source": []
  },
  {
   "cell_type": "code",
   "execution_count": null,
   "metadata": {},
   "outputs": [],
   "source": []
  },
  {
   "cell_type": "code",
   "execution_count": null,
   "metadata": {},
   "outputs": [],
   "source": []
  },
  {
   "cell_type": "code",
   "execution_count": null,
   "metadata": {},
   "outputs": [],
   "source": []
  },
  {
   "cell_type": "code",
   "execution_count": null,
   "metadata": {},
   "outputs": [],
   "source": []
  }
 ],
 "metadata": {
  "kernelspec": {
   "display_name": "Python 2",
   "language": "python",
   "name": "python2"
  },
  "language_info": {
   "codemirror_mode": {
    "name": "ipython",
    "version": 2
   },
   "file_extension": ".py",
   "mimetype": "text/x-python",
   "name": "python",
   "nbconvert_exporter": "python",
   "pygments_lexer": "ipython2",
   "version": "2.7.15"
  }
 },
 "nbformat": 4,
 "nbformat_minor": 2
}
