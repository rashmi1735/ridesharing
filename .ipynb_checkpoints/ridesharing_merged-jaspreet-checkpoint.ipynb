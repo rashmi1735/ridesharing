{
 "cells": [
  {
   "cell_type": "code",
   "execution_count": 2,
   "metadata": {},
   "outputs": [],
   "source": [
    "import numpy as np\n",
    "import pandas as pd\n",
    "import reverse_geocoder as rg \n",
    "import pprint \n",
    "from datetime import datetime,time, date\n",
    "import requests\n",
    "import networkx as nx\n",
    "import json\n",
    "import matplotlib.pyplot as plt\n",
    "from math import radians, cos, sin, asin, sqrt"
   ]
  },
  {
   "cell_type": "code",
   "execution_count": 3,
   "metadata": {},
   "outputs": [],
   "source": [
    "trip_df = pd.read_csv('yellow_tripdata_2016-01_cleaned.csv')"
   ]
  },
  {
   "cell_type": "code",
   "execution_count": 4,
   "metadata": {},
   "outputs": [
    {
     "data": {
      "text/plain": [
       "(47065, 10)"
      ]
     },
     "execution_count": 4,
     "metadata": {},
     "output_type": "execute_result"
    }
   ],
   "source": [
    "trip_df.shape"
   ]
  },
  {
   "cell_type": "code",
   "execution_count": 5,
   "metadata": {},
   "outputs": [],
   "source": [
    "trip_df['language'] = 1"
   ]
  },
  {
   "cell_type": "code",
   "execution_count": 6,
   "metadata": {},
   "outputs": [],
   "source": [
    "trip_df['profession'] = 1"
   ]
  },
  {
   "cell_type": "code",
   "execution_count": 7,
   "metadata": {},
   "outputs": [],
   "source": [
    "v = trip_df['language'] == 1\n",
    "trip_df.loc[v,'language'] = np.random.choice((0,1), v.sum(), p=(0.5,0.5))"
   ]
  },
  {
   "cell_type": "code",
   "execution_count": 8,
   "metadata": {},
   "outputs": [],
   "source": [
    "v = trip_df['profession'] == 1\n",
    "trip_df.loc[v,'profession'] = np.random.choice((0,1), v.sum(), p=(0.5,0.5))"
   ]
  },
  {
   "cell_type": "code",
   "execution_count": 9,
   "metadata": {},
   "outputs": [
    {
     "data": {
      "text/html": [
       "<div>\n",
       "<style scoped>\n",
       "    .dataframe tbody tr th:only-of-type {\n",
       "        vertical-align: middle;\n",
       "    }\n",
       "\n",
       "    .dataframe tbody tr th {\n",
       "        vertical-align: top;\n",
       "    }\n",
       "\n",
       "    .dataframe thead th {\n",
       "        text-align: right;\n",
       "    }\n",
       "</style>\n",
       "<table border=\"1\" class=\"dataframe\">\n",
       "  <thead>\n",
       "    <tr style=\"text-align: right;\">\n",
       "      <th></th>\n",
       "      <th>tpep_pickup_datetime</th>\n",
       "      <th>tpep_dropoff_datetime</th>\n",
       "      <th>passenger_count</th>\n",
       "      <th>trip_distance</th>\n",
       "      <th>pickup_longitude</th>\n",
       "      <th>pickup_latitude</th>\n",
       "      <th>dropoff_longitude</th>\n",
       "      <th>dropoff_latitude</th>\n",
       "      <th>payment_type</th>\n",
       "      <th>total_amount</th>\n",
       "      <th>language</th>\n",
       "      <th>profession</th>\n",
       "    </tr>\n",
       "  </thead>\n",
       "  <tbody>\n",
       "    <tr>\n",
       "      <th>47060</th>\n",
       "      <td>2016-01-29 09:02:59</td>\n",
       "      <td>2016-01-29 09:28:32</td>\n",
       "      <td>2</td>\n",
       "      <td>2.40</td>\n",
       "      <td>-73.954361</td>\n",
       "      <td>40.741440</td>\n",
       "      <td>-73.986832</td>\n",
       "      <td>40.755547</td>\n",
       "      <td>1</td>\n",
       "      <td>69.99</td>\n",
       "      <td>0</td>\n",
       "      <td>0</td>\n",
       "    </tr>\n",
       "    <tr>\n",
       "      <th>47061</th>\n",
       "      <td>2016-01-29 09:06:49</td>\n",
       "      <td>2016-01-29 09:44:21</td>\n",
       "      <td>1</td>\n",
       "      <td>19.10</td>\n",
       "      <td>-73.790054</td>\n",
       "      <td>40.646915</td>\n",
       "      <td>-73.957550</td>\n",
       "      <td>40.781811</td>\n",
       "      <td>1</td>\n",
       "      <td>66.34</td>\n",
       "      <td>1</td>\n",
       "      <td>0</td>\n",
       "    </tr>\n",
       "    <tr>\n",
       "      <th>47062</th>\n",
       "      <td>2016-01-29 09:08:11</td>\n",
       "      <td>2016-01-29 09:38:15</td>\n",
       "      <td>1</td>\n",
       "      <td>15.50</td>\n",
       "      <td>-73.806938</td>\n",
       "      <td>40.685490</td>\n",
       "      <td>-73.959328</td>\n",
       "      <td>40.774899</td>\n",
       "      <td>2</td>\n",
       "      <td>52.80</td>\n",
       "      <td>0</td>\n",
       "      <td>0</td>\n",
       "    </tr>\n",
       "    <tr>\n",
       "      <th>47063</th>\n",
       "      <td>2016-01-29 09:27:47</td>\n",
       "      <td>2016-01-29 10:02:19</td>\n",
       "      <td>1</td>\n",
       "      <td>12.19</td>\n",
       "      <td>-73.816429</td>\n",
       "      <td>40.702671</td>\n",
       "      <td>-73.942848</td>\n",
       "      <td>40.808170</td>\n",
       "      <td>1</td>\n",
       "      <td>65.00</td>\n",
       "      <td>1</td>\n",
       "      <td>0</td>\n",
       "    </tr>\n",
       "    <tr>\n",
       "      <th>47064</th>\n",
       "      <td>2016-01-29 09:30:56</td>\n",
       "      <td>2016-01-29 10:10:24</td>\n",
       "      <td>1</td>\n",
       "      <td>17.62</td>\n",
       "      <td>-73.784698</td>\n",
       "      <td>40.648579</td>\n",
       "      <td>-73.980820</td>\n",
       "      <td>40.757301</td>\n",
       "      <td>2</td>\n",
       "      <td>58.34</td>\n",
       "      <td>1</td>\n",
       "      <td>1</td>\n",
       "    </tr>\n",
       "  </tbody>\n",
       "</table>\n",
       "</div>"
      ],
      "text/plain": [
       "      tpep_pickup_datetime tpep_dropoff_datetime  passenger_count  \\\n",
       "47060  2016-01-29 09:02:59   2016-01-29 09:28:32                2   \n",
       "47061  2016-01-29 09:06:49   2016-01-29 09:44:21                1   \n",
       "47062  2016-01-29 09:08:11   2016-01-29 09:38:15                1   \n",
       "47063  2016-01-29 09:27:47   2016-01-29 10:02:19                1   \n",
       "47064  2016-01-29 09:30:56   2016-01-29 10:10:24                1   \n",
       "\n",
       "       trip_distance  pickup_longitude  pickup_latitude  dropoff_longitude  \\\n",
       "47060           2.40        -73.954361        40.741440         -73.986832   \n",
       "47061          19.10        -73.790054        40.646915         -73.957550   \n",
       "47062          15.50        -73.806938        40.685490         -73.959328   \n",
       "47063          12.19        -73.816429        40.702671         -73.942848   \n",
       "47064          17.62        -73.784698        40.648579         -73.980820   \n",
       "\n",
       "       dropoff_latitude  payment_type  total_amount  language  profession  \n",
       "47060         40.755547             1         69.99         0           0  \n",
       "47061         40.781811             1         66.34         1           0  \n",
       "47062         40.774899             2         52.80         0           0  \n",
       "47063         40.808170             1         65.00         1           0  \n",
       "47064         40.757301             2         58.34         1           1  "
      ]
     },
     "execution_count": 9,
     "metadata": {},
     "output_type": "execute_result"
    }
   ],
   "source": [
    "trip_df.tail()"
   ]
  },
  {
   "cell_type": "code",
   "execution_count": 10,
   "metadata": {},
   "outputs": [
    {
     "data": {
      "text/html": [
       "<div>\n",
       "<style scoped>\n",
       "    .dataframe tbody tr th:only-of-type {\n",
       "        vertical-align: middle;\n",
       "    }\n",
       "\n",
       "    .dataframe tbody tr th {\n",
       "        vertical-align: top;\n",
       "    }\n",
       "\n",
       "    .dataframe thead th {\n",
       "        text-align: right;\n",
       "    }\n",
       "</style>\n",
       "<table border=\"1\" class=\"dataframe\">\n",
       "  <thead>\n",
       "    <tr style=\"text-align: right;\">\n",
       "      <th></th>\n",
       "      <th>tpep_pickup_datetime</th>\n",
       "      <th>tpep_dropoff_datetime</th>\n",
       "      <th>passenger_count</th>\n",
       "      <th>trip_distance</th>\n",
       "      <th>pickup_longitude</th>\n",
       "      <th>pickup_latitude</th>\n",
       "      <th>dropoff_longitude</th>\n",
       "      <th>dropoff_latitude</th>\n",
       "      <th>payment_type</th>\n",
       "      <th>total_amount</th>\n",
       "      <th>language</th>\n",
       "      <th>profession</th>\n",
       "    </tr>\n",
       "  </thead>\n",
       "  <tbody>\n",
       "    <tr>\n",
       "      <th>200</th>\n",
       "      <td>2016-01-01 00:02:31</td>\n",
       "      <td>2016-01-01 00:36:28</td>\n",
       "      <td>1</td>\n",
       "      <td>21.00</td>\n",
       "      <td>-73.788681</td>\n",
       "      <td>40.647346</td>\n",
       "      <td>-73.981880</td>\n",
       "      <td>40.773045</td>\n",
       "      <td>1</td>\n",
       "      <td>69.99</td>\n",
       "      <td>0</td>\n",
       "      <td>1</td>\n",
       "    </tr>\n",
       "    <tr>\n",
       "      <th>201</th>\n",
       "      <td>2016-01-01 00:02:59</td>\n",
       "      <td>2016-01-01 00:27:21</td>\n",
       "      <td>1</td>\n",
       "      <td>20.30</td>\n",
       "      <td>-73.777771</td>\n",
       "      <td>40.646736</td>\n",
       "      <td>-73.958557</td>\n",
       "      <td>40.763794</td>\n",
       "      <td>4</td>\n",
       "      <td>58.34</td>\n",
       "      <td>0</td>\n",
       "      <td>1</td>\n",
       "    </tr>\n",
       "    <tr>\n",
       "      <th>202</th>\n",
       "      <td>2016-01-01 00:04:31</td>\n",
       "      <td>2016-01-01 00:35:24</td>\n",
       "      <td>1</td>\n",
       "      <td>18.52</td>\n",
       "      <td>-73.789978</td>\n",
       "      <td>40.647137</td>\n",
       "      <td>-73.958107</td>\n",
       "      <td>40.802235</td>\n",
       "      <td>1</td>\n",
       "      <td>72.92</td>\n",
       "      <td>1</td>\n",
       "      <td>1</td>\n",
       "    </tr>\n",
       "    <tr>\n",
       "      <th>203</th>\n",
       "      <td>2016-01-01 00:13:55</td>\n",
       "      <td>2016-01-01 00:48:45</td>\n",
       "      <td>1</td>\n",
       "      <td>20.80</td>\n",
       "      <td>-73.782135</td>\n",
       "      <td>40.644505</td>\n",
       "      <td>-73.980103</td>\n",
       "      <td>40.788994</td>\n",
       "      <td>1</td>\n",
       "      <td>72.89</td>\n",
       "      <td>0</td>\n",
       "      <td>1</td>\n",
       "    </tr>\n",
       "    <tr>\n",
       "      <th>204</th>\n",
       "      <td>2016-01-01 00:22:16</td>\n",
       "      <td>2016-01-01 00:49:53</td>\n",
       "      <td>1</td>\n",
       "      <td>17.37</td>\n",
       "      <td>-73.776749</td>\n",
       "      <td>40.645969</td>\n",
       "      <td>-73.960487</td>\n",
       "      <td>40.767979</td>\n",
       "      <td>1</td>\n",
       "      <td>63.36</td>\n",
       "      <td>1</td>\n",
       "      <td>1</td>\n",
       "    </tr>\n",
       "  </tbody>\n",
       "</table>\n",
       "</div>"
      ],
      "text/plain": [
       "    tpep_pickup_datetime tpep_dropoff_datetime  passenger_count  \\\n",
       "200  2016-01-01 00:02:31   2016-01-01 00:36:28                1   \n",
       "201  2016-01-01 00:02:59   2016-01-01 00:27:21                1   \n",
       "202  2016-01-01 00:04:31   2016-01-01 00:35:24                1   \n",
       "203  2016-01-01 00:13:55   2016-01-01 00:48:45                1   \n",
       "204  2016-01-01 00:22:16   2016-01-01 00:49:53                1   \n",
       "\n",
       "     trip_distance  pickup_longitude  pickup_latitude  dropoff_longitude  \\\n",
       "200          21.00        -73.788681        40.647346         -73.981880   \n",
       "201          20.30        -73.777771        40.646736         -73.958557   \n",
       "202          18.52        -73.789978        40.647137         -73.958107   \n",
       "203          20.80        -73.782135        40.644505         -73.980103   \n",
       "204          17.37        -73.776749        40.645969         -73.960487   \n",
       "\n",
       "     dropoff_latitude  payment_type  total_amount  language  profession  \n",
       "200         40.773045             1         69.99         0           1  \n",
       "201         40.763794             4         58.34         0           1  \n",
       "202         40.802235             1         72.92         1           1  \n",
       "203         40.788994             1         72.89         0           1  \n",
       "204         40.767979             1         63.36         1           1  "
      ]
     },
     "execution_count": 10,
     "metadata": {},
     "output_type": "execute_result"
    }
   ],
   "source": [
    "trip_df.tpep_pickup_datetime = trip_df.tpep_pickup_datetime.apply(lambda x: datetime.strptime(x, \"%Y-%m-%d %H:%M:%S\"))\n",
    "trip_df.tpep_dropoff_datetime = trip_df.tpep_dropoff_datetime.apply(lambda x: datetime.strptime(x, \"%Y-%m-%d %H:%M:%S\"))\n",
    "trip_df = trip_df.sort_values(by = 'tpep_pickup_datetime')\n",
    "trip_df.head()"
   ]
  },
  {
   "cell_type": "code",
   "execution_count": 11,
   "metadata": {},
   "outputs": [
    {
     "data": {
      "text/html": [
       "<div>\n",
       "<style scoped>\n",
       "    .dataframe tbody tr th:only-of-type {\n",
       "        vertical-align: middle;\n",
       "    }\n",
       "\n",
       "    .dataframe tbody tr th {\n",
       "        vertical-align: top;\n",
       "    }\n",
       "\n",
       "    .dataframe thead th {\n",
       "        text-align: right;\n",
       "    }\n",
       "</style>\n",
       "<table border=\"1\" class=\"dataframe\">\n",
       "  <thead>\n",
       "    <tr style=\"text-align: right;\">\n",
       "      <th></th>\n",
       "      <th>tpep_pickup_datetime</th>\n",
       "      <th>tpep_dropoff_datetime</th>\n",
       "      <th>passenger_count</th>\n",
       "      <th>trip_distance</th>\n",
       "      <th>pickup_longitude</th>\n",
       "      <th>pickup_latitude</th>\n",
       "      <th>dropoff_longitude</th>\n",
       "      <th>dropoff_latitude</th>\n",
       "      <th>payment_type</th>\n",
       "      <th>total_amount</th>\n",
       "      <th>language</th>\n",
       "      <th>profession</th>\n",
       "    </tr>\n",
       "  </thead>\n",
       "  <tbody>\n",
       "    <tr>\n",
       "      <th>200</th>\n",
       "      <td>2016-01-01 00:02:31</td>\n",
       "      <td>2016-01-01 00:36:28</td>\n",
       "      <td>1</td>\n",
       "      <td>21.00</td>\n",
       "      <td>-73.788681</td>\n",
       "      <td>40.647346</td>\n",
       "      <td>-73.981880</td>\n",
       "      <td>40.773045</td>\n",
       "      <td>1</td>\n",
       "      <td>69.99</td>\n",
       "      <td>0</td>\n",
       "      <td>1</td>\n",
       "    </tr>\n",
       "    <tr>\n",
       "      <th>201</th>\n",
       "      <td>2016-01-01 00:02:59</td>\n",
       "      <td>2016-01-01 00:27:21</td>\n",
       "      <td>1</td>\n",
       "      <td>20.30</td>\n",
       "      <td>-73.777771</td>\n",
       "      <td>40.646736</td>\n",
       "      <td>-73.958557</td>\n",
       "      <td>40.763794</td>\n",
       "      <td>4</td>\n",
       "      <td>58.34</td>\n",
       "      <td>0</td>\n",
       "      <td>1</td>\n",
       "    </tr>\n",
       "    <tr>\n",
       "      <th>202</th>\n",
       "      <td>2016-01-01 00:04:31</td>\n",
       "      <td>2016-01-01 00:35:24</td>\n",
       "      <td>1</td>\n",
       "      <td>18.52</td>\n",
       "      <td>-73.789978</td>\n",
       "      <td>40.647137</td>\n",
       "      <td>-73.958107</td>\n",
       "      <td>40.802235</td>\n",
       "      <td>1</td>\n",
       "      <td>72.92</td>\n",
       "      <td>1</td>\n",
       "      <td>1</td>\n",
       "    </tr>\n",
       "    <tr>\n",
       "      <th>203</th>\n",
       "      <td>2016-01-01 00:13:55</td>\n",
       "      <td>2016-01-01 00:48:45</td>\n",
       "      <td>1</td>\n",
       "      <td>20.80</td>\n",
       "      <td>-73.782135</td>\n",
       "      <td>40.644505</td>\n",
       "      <td>-73.980103</td>\n",
       "      <td>40.788994</td>\n",
       "      <td>1</td>\n",
       "      <td>72.89</td>\n",
       "      <td>0</td>\n",
       "      <td>1</td>\n",
       "    </tr>\n",
       "    <tr>\n",
       "      <th>204</th>\n",
       "      <td>2016-01-01 00:22:16</td>\n",
       "      <td>2016-01-01 00:49:53</td>\n",
       "      <td>1</td>\n",
       "      <td>17.37</td>\n",
       "      <td>-73.776749</td>\n",
       "      <td>40.645969</td>\n",
       "      <td>-73.960487</td>\n",
       "      <td>40.767979</td>\n",
       "      <td>1</td>\n",
       "      <td>63.36</td>\n",
       "      <td>1</td>\n",
       "      <td>1</td>\n",
       "    </tr>\n",
       "  </tbody>\n",
       "</table>\n",
       "</div>"
      ],
      "text/plain": [
       "    tpep_pickup_datetime tpep_dropoff_datetime  passenger_count  \\\n",
       "200  2016-01-01 00:02:31   2016-01-01 00:36:28                1   \n",
       "201  2016-01-01 00:02:59   2016-01-01 00:27:21                1   \n",
       "202  2016-01-01 00:04:31   2016-01-01 00:35:24                1   \n",
       "203  2016-01-01 00:13:55   2016-01-01 00:48:45                1   \n",
       "204  2016-01-01 00:22:16   2016-01-01 00:49:53                1   \n",
       "\n",
       "     trip_distance  pickup_longitude  pickup_latitude  dropoff_longitude  \\\n",
       "200          21.00        -73.788681        40.647346         -73.981880   \n",
       "201          20.30        -73.777771        40.646736         -73.958557   \n",
       "202          18.52        -73.789978        40.647137         -73.958107   \n",
       "203          20.80        -73.782135        40.644505         -73.980103   \n",
       "204          17.37        -73.776749        40.645969         -73.960487   \n",
       "\n",
       "     dropoff_latitude  payment_type  total_amount  language  profession  \n",
       "200         40.773045             1         69.99         0           1  \n",
       "201         40.763794             4         58.34         0           1  \n",
       "202         40.802235             1         72.92         1           1  \n",
       "203         40.788994             1         72.89         0           1  \n",
       "204         40.767979             1         63.36         1           1  "
      ]
     },
     "execution_count": 11,
     "metadata": {},
     "output_type": "execute_result"
    }
   ],
   "source": [
    "trip_df.head()"
   ]
  },
  {
   "cell_type": "code",
   "execution_count": 12,
   "metadata": {},
   "outputs": [],
   "source": [
    "# trip_df = trip_df.reset_index(drop = True)\n",
    "trip_df.index = trip_df.index + 1"
   ]
  },
  {
   "cell_type": "code",
   "execution_count": 13,
   "metadata": {},
   "outputs": [
    {
     "data": {
      "text/html": [
       "<div>\n",
       "<style scoped>\n",
       "    .dataframe tbody tr th:only-of-type {\n",
       "        vertical-align: middle;\n",
       "    }\n",
       "\n",
       "    .dataframe tbody tr th {\n",
       "        vertical-align: top;\n",
       "    }\n",
       "\n",
       "    .dataframe thead th {\n",
       "        text-align: right;\n",
       "    }\n",
       "</style>\n",
       "<table border=\"1\" class=\"dataframe\">\n",
       "  <thead>\n",
       "    <tr style=\"text-align: right;\">\n",
       "      <th></th>\n",
       "      <th>tpep_pickup_datetime</th>\n",
       "      <th>tpep_dropoff_datetime</th>\n",
       "      <th>passenger_count</th>\n",
       "      <th>trip_distance</th>\n",
       "      <th>pickup_longitude</th>\n",
       "      <th>pickup_latitude</th>\n",
       "      <th>dropoff_longitude</th>\n",
       "      <th>dropoff_latitude</th>\n",
       "      <th>payment_type</th>\n",
       "      <th>total_amount</th>\n",
       "      <th>language</th>\n",
       "      <th>profession</th>\n",
       "    </tr>\n",
       "  </thead>\n",
       "  <tbody>\n",
       "    <tr>\n",
       "      <th>201</th>\n",
       "      <td>2016-01-01 00:02:31</td>\n",
       "      <td>2016-01-01 00:36:28</td>\n",
       "      <td>1</td>\n",
       "      <td>21.00</td>\n",
       "      <td>-73.788681</td>\n",
       "      <td>40.647346</td>\n",
       "      <td>-73.981880</td>\n",
       "      <td>40.773045</td>\n",
       "      <td>1</td>\n",
       "      <td>69.99</td>\n",
       "      <td>0</td>\n",
       "      <td>1</td>\n",
       "    </tr>\n",
       "    <tr>\n",
       "      <th>202</th>\n",
       "      <td>2016-01-01 00:02:59</td>\n",
       "      <td>2016-01-01 00:27:21</td>\n",
       "      <td>1</td>\n",
       "      <td>20.30</td>\n",
       "      <td>-73.777771</td>\n",
       "      <td>40.646736</td>\n",
       "      <td>-73.958557</td>\n",
       "      <td>40.763794</td>\n",
       "      <td>4</td>\n",
       "      <td>58.34</td>\n",
       "      <td>0</td>\n",
       "      <td>1</td>\n",
       "    </tr>\n",
       "    <tr>\n",
       "      <th>203</th>\n",
       "      <td>2016-01-01 00:04:31</td>\n",
       "      <td>2016-01-01 00:35:24</td>\n",
       "      <td>1</td>\n",
       "      <td>18.52</td>\n",
       "      <td>-73.789978</td>\n",
       "      <td>40.647137</td>\n",
       "      <td>-73.958107</td>\n",
       "      <td>40.802235</td>\n",
       "      <td>1</td>\n",
       "      <td>72.92</td>\n",
       "      <td>1</td>\n",
       "      <td>1</td>\n",
       "    </tr>\n",
       "    <tr>\n",
       "      <th>204</th>\n",
       "      <td>2016-01-01 00:13:55</td>\n",
       "      <td>2016-01-01 00:48:45</td>\n",
       "      <td>1</td>\n",
       "      <td>20.80</td>\n",
       "      <td>-73.782135</td>\n",
       "      <td>40.644505</td>\n",
       "      <td>-73.980103</td>\n",
       "      <td>40.788994</td>\n",
       "      <td>1</td>\n",
       "      <td>72.89</td>\n",
       "      <td>0</td>\n",
       "      <td>1</td>\n",
       "    </tr>\n",
       "    <tr>\n",
       "      <th>205</th>\n",
       "      <td>2016-01-01 00:22:16</td>\n",
       "      <td>2016-01-01 00:49:53</td>\n",
       "      <td>1</td>\n",
       "      <td>17.37</td>\n",
       "      <td>-73.776749</td>\n",
       "      <td>40.645969</td>\n",
       "      <td>-73.960487</td>\n",
       "      <td>40.767979</td>\n",
       "      <td>1</td>\n",
       "      <td>63.36</td>\n",
       "      <td>1</td>\n",
       "      <td>1</td>\n",
       "    </tr>\n",
       "  </tbody>\n",
       "</table>\n",
       "</div>"
      ],
      "text/plain": [
       "    tpep_pickup_datetime tpep_dropoff_datetime  passenger_count  \\\n",
       "201  2016-01-01 00:02:31   2016-01-01 00:36:28                1   \n",
       "202  2016-01-01 00:02:59   2016-01-01 00:27:21                1   \n",
       "203  2016-01-01 00:04:31   2016-01-01 00:35:24                1   \n",
       "204  2016-01-01 00:13:55   2016-01-01 00:48:45                1   \n",
       "205  2016-01-01 00:22:16   2016-01-01 00:49:53                1   \n",
       "\n",
       "     trip_distance  pickup_longitude  pickup_latitude  dropoff_longitude  \\\n",
       "201          21.00        -73.788681        40.647346         -73.981880   \n",
       "202          20.30        -73.777771        40.646736         -73.958557   \n",
       "203          18.52        -73.789978        40.647137         -73.958107   \n",
       "204          20.80        -73.782135        40.644505         -73.980103   \n",
       "205          17.37        -73.776749        40.645969         -73.960487   \n",
       "\n",
       "     dropoff_latitude  payment_type  total_amount  language  profession  \n",
       "201         40.773045             1         69.99         0           1  \n",
       "202         40.763794             4         58.34         0           1  \n",
       "203         40.802235             1         72.92         1           1  \n",
       "204         40.788994             1         72.89         0           1  \n",
       "205         40.767979             1         63.36         1           1  "
      ]
     },
     "execution_count": 13,
     "metadata": {},
     "output_type": "execute_result"
    }
   ],
   "source": [
    "trip_df.head()"
   ]
  },
  {
   "cell_type": "code",
   "execution_count": 14,
   "metadata": {},
   "outputs": [],
   "source": [
    "# Pooling Window = 5 mins\n",
    "\n",
    "def getGroup(a,b):\n",
    "    res = trip_df[((trip_df.tpep_pickup_datetime - b).apply(lambda x: (x.total_seconds() <= 300) & \n",
    "                                                          (x.total_seconds() > 0))) & (trip_df.trip_id != a)]\n",
    "    return res.trip_id.values\n"
   ]
  },
  {
   "cell_type": "code",
   "execution_count": 15,
   "metadata": {},
   "outputs": [
    {
     "ename": "KeyError",
     "evalue": "0",
     "output_type": "error",
     "traceback": [
      "\u001b[0;31m---------------------------------------------------------------------------\u001b[0m",
      "\u001b[0;31mKeyError\u001b[0m                                  Traceback (most recent call last)",
      "\u001b[0;32m<ipython-input-15-f83a60d98915>\u001b[0m in \u001b[0;36m<module>\u001b[0;34m()\u001b[0m\n\u001b[0;32m----> 1\u001b[0;31m \u001b[0mtimeADest\u001b[0m \u001b[0;34m=\u001b[0m \u001b[0mtrip_df\u001b[0m\u001b[0;34m.\u001b[0m\u001b[0mtpep_dropoff_datetime\u001b[0m\u001b[0;34m[\u001b[0m\u001b[0;36m0\u001b[0m\u001b[0;34m]\u001b[0m \u001b[0;34m-\u001b[0m \u001b[0mtrip_df\u001b[0m\u001b[0;34m.\u001b[0m\u001b[0mtpep_pickup_datetime\u001b[0m\u001b[0;34m[\u001b[0m\u001b[0;36m0\u001b[0m\u001b[0;34m]\u001b[0m\u001b[0;34m\u001b[0m\u001b[0m\n\u001b[0m\u001b[1;32m      2\u001b[0m \u001b[0mtimeADest\u001b[0m\u001b[0;34m=\u001b[0m\u001b[0mtimeADest\u001b[0m\u001b[0;34m.\u001b[0m\u001b[0mdays\u001b[0m\u001b[0;34m*\u001b[0m\u001b[0;36m24\u001b[0m\u001b[0;34m*\u001b[0m\u001b[0;36m60\u001b[0m\u001b[0;34m*\u001b[0m\u001b[0;36m60\u001b[0m\u001b[0;34m+\u001b[0m\u001b[0mtimeADest\u001b[0m\u001b[0;34m.\u001b[0m\u001b[0mseconds\u001b[0m\u001b[0;34m\u001b[0m\u001b[0m\n",
      "\u001b[0;32m/anaconda2/lib/python2.7/site-packages/pandas/core/series.pyc\u001b[0m in \u001b[0;36m__getitem__\u001b[0;34m(self, key)\u001b[0m\n\u001b[1;32m    765\u001b[0m         \u001b[0mkey\u001b[0m \u001b[0;34m=\u001b[0m \u001b[0mcom\u001b[0m\u001b[0;34m.\u001b[0m\u001b[0m_apply_if_callable\u001b[0m\u001b[0;34m(\u001b[0m\u001b[0mkey\u001b[0m\u001b[0;34m,\u001b[0m \u001b[0mself\u001b[0m\u001b[0;34m)\u001b[0m\u001b[0;34m\u001b[0m\u001b[0m\n\u001b[1;32m    766\u001b[0m         \u001b[0;32mtry\u001b[0m\u001b[0;34m:\u001b[0m\u001b[0;34m\u001b[0m\u001b[0m\n\u001b[0;32m--> 767\u001b[0;31m             \u001b[0mresult\u001b[0m \u001b[0;34m=\u001b[0m \u001b[0mself\u001b[0m\u001b[0;34m.\u001b[0m\u001b[0mindex\u001b[0m\u001b[0;34m.\u001b[0m\u001b[0mget_value\u001b[0m\u001b[0;34m(\u001b[0m\u001b[0mself\u001b[0m\u001b[0;34m,\u001b[0m \u001b[0mkey\u001b[0m\u001b[0;34m)\u001b[0m\u001b[0;34m\u001b[0m\u001b[0m\n\u001b[0m\u001b[1;32m    768\u001b[0m \u001b[0;34m\u001b[0m\u001b[0m\n\u001b[1;32m    769\u001b[0m             \u001b[0;32mif\u001b[0m \u001b[0;32mnot\u001b[0m \u001b[0mis_scalar\u001b[0m\u001b[0;34m(\u001b[0m\u001b[0mresult\u001b[0m\u001b[0;34m)\u001b[0m\u001b[0;34m:\u001b[0m\u001b[0;34m\u001b[0m\u001b[0m\n",
      "\u001b[0;32m/anaconda2/lib/python2.7/site-packages/pandas/core/indexes/base.pyc\u001b[0m in \u001b[0;36mget_value\u001b[0;34m(self, series, key)\u001b[0m\n\u001b[1;32m   3116\u001b[0m         \u001b[0;32mtry\u001b[0m\u001b[0;34m:\u001b[0m\u001b[0;34m\u001b[0m\u001b[0m\n\u001b[1;32m   3117\u001b[0m             return self._engine.get_value(s, k,\n\u001b[0;32m-> 3118\u001b[0;31m                                           tz=getattr(series.dtype, 'tz', None))\n\u001b[0m\u001b[1;32m   3119\u001b[0m         \u001b[0;32mexcept\u001b[0m \u001b[0mKeyError\u001b[0m \u001b[0;32mas\u001b[0m \u001b[0me1\u001b[0m\u001b[0;34m:\u001b[0m\u001b[0;34m\u001b[0m\u001b[0m\n\u001b[1;32m   3120\u001b[0m             \u001b[0;32mif\u001b[0m \u001b[0mlen\u001b[0m\u001b[0;34m(\u001b[0m\u001b[0mself\u001b[0m\u001b[0;34m)\u001b[0m \u001b[0;34m>\u001b[0m \u001b[0;36m0\u001b[0m \u001b[0;32mand\u001b[0m \u001b[0mself\u001b[0m\u001b[0;34m.\u001b[0m\u001b[0minferred_type\u001b[0m \u001b[0;32min\u001b[0m \u001b[0;34m[\u001b[0m\u001b[0;34m'integer'\u001b[0m\u001b[0;34m,\u001b[0m \u001b[0;34m'boolean'\u001b[0m\u001b[0;34m]\u001b[0m\u001b[0;34m:\u001b[0m\u001b[0;34m\u001b[0m\u001b[0m\n",
      "\u001b[0;32mpandas/_libs/index.pyx\u001b[0m in \u001b[0;36mpandas._libs.index.IndexEngine.get_value\u001b[0;34m()\u001b[0m\n",
      "\u001b[0;32mpandas/_libs/index.pyx\u001b[0m in \u001b[0;36mpandas._libs.index.IndexEngine.get_value\u001b[0;34m()\u001b[0m\n",
      "\u001b[0;32mpandas/_libs/index.pyx\u001b[0m in \u001b[0;36mpandas._libs.index.IndexEngine.get_loc\u001b[0;34m()\u001b[0m\n",
      "\u001b[0;32mpandas/_libs/hashtable_class_helper.pxi\u001b[0m in \u001b[0;36mpandas._libs.hashtable.Int64HashTable.get_item\u001b[0;34m()\u001b[0m\n",
      "\u001b[0;32mpandas/_libs/hashtable_class_helper.pxi\u001b[0m in \u001b[0;36mpandas._libs.hashtable.Int64HashTable.get_item\u001b[0;34m()\u001b[0m\n",
      "\u001b[0;31mKeyError\u001b[0m: 0"
     ]
    }
   ],
   "source": [
    "timeADest = trip_df.tpep_dropoff_datetime[0] - trip_df.tpep_pickup_datetime[0]\n",
    "timeADest=timeADest.days*24*60*60+timeADest.seconds"
   ]
  },
  {
   "cell_type": "code",
   "execution_count": 16,
   "metadata": {},
   "outputs": [],
   "source": [
    "B_hdist = []\n",
    "averageSpeed = None\n",
    "B_tuple = None"
   ]
  },
  {
   "cell_type": "code",
   "execution_count": 18,
   "metadata": {},
   "outputs": [],
   "source": [
    "trip_df[\"time\"]=trip_df.tpep_dropoff_datetime-trip_df.tpep_pickup_datetime;\n",
    "trip_df[\"time\"] = trip_df[\"time\"].apply(lambda x: x.days*24*60*60+x.seconds)  \n",
    "trip_df = trip_df[trip_df[\"time\"] != 0]\n",
    "trip_df[\"speed\"]=trip_df.trip_distance/trip_df[\"time\"]\n",
    "averageSpeed=trip_df[\"speed\"].mean()"
   ]
  },
  {
   "cell_type": "code",
   "execution_count": 19,
   "metadata": {},
   "outputs": [],
   "source": [
    "def haversine(lon1, lat1, lon2, lat2):\n",
    "    lon1, lat1, lon2, lat2 = map(radians, [lon1, lat1, lon2, lat2])\n",
    "    # haversine formula\n",
    "    dlon = lon2 - lon1\n",
    "    dlat = lat2 - lat1\n",
    "    a = sin(dlat / 2) ** 2 + cos(lat1) * cos(lat2) * sin(dlon / 2) ** 2\n",
    "    c = 2 * asin(sqrt(a))\n",
    "    r = 3956  # Radius of earth in kilometers. Use 3956 for miles\n",
    "    return c * r"
   ]
  },
  {
   "cell_type": "code",
   "execution_count": 20,
   "metadata": {},
   "outputs": [],
   "source": [
    "def timeAtoB(hdist):\n",
    "    return hdist/averageSpeed;\n"
   ]
  },
  {
   "cell_type": "code",
   "execution_count": 21,
   "metadata": {},
   "outputs": [],
   "source": [
    "def lowerBound():\n",
    "    res=[]\n",
    "    for i in range(len(B_tuple)):\n",
    "        b=B_tuple[i]       \n",
    "        timeBDest=trip_df.tpep_dropoff_datetime[b-1]-trip_df.tpep_pickup_datetime[b-1];  \n",
    "        timeBDest=timeBDest.days*24*60*60+timeBDest.seconds; \n",
    "        delay=.20*trip_df.trip_distance[b-1]\n",
    "        lval=timeADest+timeAtoB(B_hdist[i])\n",
    "        rval=timeBDest+delay\n",
    "  \n",
    "        if(lval < rval):\n",
    "            res.append((a,b))\n",
    "    return res"
   ]
  },
  {
   "cell_type": "code",
   "execution_count": 22,
   "metadata": {},
   "outputs": [],
   "source": [
    "def startComputation():\n",
    "    print(\"Calculating all haversine distances for B's\") \n",
    "    hDistA=(haversine(trip_df.pickup_longitude[0],trip_df.pickup_latitude[0],trip_df.dropoff_longitude[0],trip_df.dropoff_latitude[0]))\n",
    "    for b in B_tuple:\n",
    "        B_hdist.append(abs(haversine(trip_df.pickup_longitude[b-1],trip_df.pickup_latitude[b-1],trip_df.dropoff_longitude[b-1],trip_df.dropoff_latitude[b-1])-hDistA)) \n",
    "    print(B_hdist)\n",
    "    print(\"Calculating Average Speed\")\n",
    "    print(averageSpeed)\n",
    "    print(\"Applying lower bound. Find the answer below:\")\n",
    "    result = lowerBound()\n",
    "    print(result)\n",
    "    return result"
   ]
  },
  {
   "cell_type": "code",
   "execution_count": 23,
   "metadata": {},
   "outputs": [],
   "source": [
    "def getActualDistance(tuple_list):\n",
    "    \n",
    "    result = []    #(drop-off_A_trip_id, drop-off_B_trip_id, actual distance from drop_off_A to drop-off_B)\n",
    "    \n",
    "    for pair in tuple_list:\n",
    "        url = \"https://graphhopper.com/api/1/matrix?\"\n",
    "        points = \"point=\"+str(trip_df.loc[pair[0], \"dropoff_latitude\"])+\",\"+str(trip_df.loc[pair[0], \"dropoff_longitude\"])\n",
    "        points += \"&point=\"+str(trip_df.loc[pair[1], \"dropoff_latitude\"])+\",\"+str(trip_df.loc[pair[1], \"dropoff_longitude\"])\n",
    "        url += points\n",
    "        url+=\"&type=json&vehicle=car&debug=true&out_array=weights&out_array=times&out_array=distances&key=6cc35214-399c-42c9-bc1f-00a13016e6a3\"\n",
    "        response = requests.get(url)\n",
    "        response_dict = json.loads(response.text)\n",
    "#         print(response_dict['distances'])\n",
    "        actual_dist = response_dict['distances'][0][1] * 0.000621371    # 1 meter = 0.000621371 miles\n",
    "#         print(actual_dist)    \n",
    "        result.append((pair[0], pair[1], actual_dist, trip_df.trip_distance[pair[0]], trip_df.trip_distance[pair[1]], trip_df.language[pair[0]], trip_df.language[pair[1]], trip_df.profession[pair[0]], trip_df.profession[pair[1]]))\n",
    "    \n",
    "    return result \n",
    "    "
   ]
  },
  {
   "cell_type": "code",
   "execution_count": 24,
   "metadata": {},
   "outputs": [
    {
     "name": "stdout",
     "output_type": "stream",
     "text": [
      "Getting all Bs\n",
      "[562 563 564 565 566 567 568]\n",
      "Calculating all haversine distances for B's\n",
      "[0.7285394216756966, 0.15911781968043748, 0.06063624053352612, 1.621629820925401, 0.07699768387307948, 0.0961519911671953, 0.08320374776399753]\n",
      "Calculating Average Speed\n",
      "0.0110985932835\n",
      "Applying lower bound. Find the answer below:\n",
      "[(561, 562), (561, 565)]\n"
     ]
    },
    {
     "data": {
      "text/plain": [
       "[(561, 562, 0.79535488, 18.67, 17.05, 0, 0, 1, 0),\n",
       " (561, 565, 1.012213359, 18.67, 16.95, 0, 1, 1, 0)]"
      ]
     },
     "execution_count": 24,
     "metadata": {},
     "output_type": "execute_result"
    }
   ],
   "source": [
    "a=trip_df.trip_id[560]\n",
    "print(\"Getting all Bs\")\n",
    "B_tuple= getGroup(trip_df.trip_id[560], trip_df.tpep_pickup_datetime[560])\n",
    "print(B_tuple)\n",
    "tuple_list = startComputation()\n",
    "actual_dist_values = getActualDistance(tuple_list)\n",
    "actual_dist_values     # in miles"
   ]
  },
  {
   "cell_type": "code",
   "execution_count": 25,
   "metadata": {},
   "outputs": [],
   "source": [
    "def getSocialScore(prof1, prof2, lang1, lang2):\n",
    "    if lang1== lang2:\n",
    "        if prof1 == prof2:\n",
    "            return 1\n",
    "        else:\n",
    "            return 0.6\n",
    "    else:\n",
    "        return 0.1"
   ]
  },
  {
   "cell_type": "code",
   "execution_count": 26,
   "metadata": {},
   "outputs": [],
   "source": [
    "def getDistanceSaved(distance1, distance2, routeDistance):\n",
    "    dist = (distance1+distance2) - routeDistance\n",
    "    return dist"
   ]
  },
  {
   "cell_type": "code",
   "execution_count": 27,
   "metadata": {},
   "outputs": [],
   "source": [
    "def getWeight(distSaved, socialScore):\n",
    "    weight = (0.8*distSaved) + (0.2*socialScore)\n",
    "    return round(weight,3)"
   ]
  },
  {
   "cell_type": "code",
   "execution_count": 28,
   "metadata": {},
   "outputs": [],
   "source": [
    "T = np.append(a, B_tuple).tolist()"
   ]
  },
  {
   "cell_type": "code",
   "execution_count": 29,
   "metadata": {},
   "outputs": [],
   "source": [
    "linkWeights = []"
   ]
  },
  {
   "cell_type": "code",
   "execution_count": 30,
   "metadata": {},
   "outputs": [],
   "source": [
    "for row in actual_dist_values:\n",
    "    distanceA = row[3]\n",
    "    distanceB = row[4]\n",
    "    routeDistance = row[2] + row[3]\n",
    "    prof1 = row[7]\n",
    "    prof2 = row[8]\n",
    "    lang1 = row[5]\n",
    "    lang2 = row[6]\n",
    "    \n",
    "    socialScore = getSocialScore(prof1, prof2, lang1, lang2)\n",
    "    distanceSaved = getDistanceSaved(distanceA, distanceB, routeDistance)\n",
    "    finalWeight = getWeight(distanceSaved, socialScore)\n",
    "    linkWeights.append((row[0], row[1], finalWeight))\n",
    "    "
   ]
  },
  {
   "cell_type": "code",
   "execution_count": 31,
   "metadata": {},
   "outputs": [
    {
     "data": {
      "text/plain": [
       "[(561, 562, 13.124), (561, 565, 12.77)]"
      ]
     },
     "execution_count": 31,
     "metadata": {},
     "output_type": "execute_result"
    }
   ],
   "source": [
    "linkWeights"
   ]
  },
  {
   "cell_type": "code",
   "execution_count": 32,
   "metadata": {},
   "outputs": [],
   "source": [
    "G = nx.Graph()\n",
    "G.add_nodes_from(T)"
   ]
  },
  {
   "cell_type": "code",
   "execution_count": 33,
   "metadata": {},
   "outputs": [],
   "source": [
    "for link in linkWeights:\n",
    "    G.add_edge(link[0], link[1], weight=link[2])"
   ]
  },
  {
   "cell_type": "code",
   "execution_count": 34,
   "metadata": {},
   "outputs": [
    {
     "data": {
      "image/png": "[encoded data removed]",
      "text/plain": [
       "<Figure size 432x288 with 1 Axes>"
      ]
     },
     "metadata": {},
     "output_type": "display_data"
    }
   ],
   "source": [
    "nx.draw(G, with_labels=True)"
   ]
  },
  {
   "cell_type": "code",
   "execution_count": 36,
   "metadata": {},
   "outputs": [
    {
     "name": "stdout",
     "output_type": "stream",
     "text": [
      "set([(561, 562)])\n"
     ]
    }
   ],
   "source": [
    "M_max = nx.max_weight_matching(G, weight='weight')\n",
    "print(M_max)"
   ]
  },
  {
   "cell_type": "code",
   "execution_count": 37,
   "metadata": {},
   "outputs": [
    {
     "name": "stdout",
     "output_type": "stream",
     "text": [
      "[(561, 562), 563, 564, 565, 566, 567, 568]\n"
     ]
    }
   ],
   "source": [
    "individual_trips = []\n",
    "for i,trip in enumerate(T):\n",
    "    exists = any(trip in t for t in M_max)\n",
    "    if exists != True:\n",
    "        individual_trips.append(trip)\n",
    "\n",
    "\n",
    "resultant_trips = list(M_max) + individual_trips\n",
    "print(resultant_trips)"
   ]
  },
  {
   "cell_type": "code",
   "execution_count": null,
   "metadata": {},
   "outputs": [],
   "source": []
  }
 ],
 "metadata": {
  "kernelspec": {
   "display_name": "Python 2",
   "language": "python",
   "name": "python2"
  },
  "language_info": {
   "codemirror_mode": {
    "name": "ipython",
    "version": 2
   },
   "file_extension": ".py",
   "mimetype": "text/x-python",
   "name": "python",
   "nbconvert_exporter": "python",
   "pygments_lexer": "ipython2",
   "version": "2.7.15"
  }
 },
 "nbformat": 4,
 "nbformat_minor": 2
}
